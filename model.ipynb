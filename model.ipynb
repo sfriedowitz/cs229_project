{
 "cells": [
  {
   "cell_type": "code",
   "execution_count": 107,
   "metadata": {},
   "outputs": [],
   "source": [
    "import numpy as np\n",
    "import pandas as pd\n",
    "\n",
    "import sklearn\n",
    "from sklearn.preprocessing import StandardScaler\n",
    "from sklearn.decomposition import PCA\n",
    "\n",
    "import matplotlib.pyplot as plt\n",
    "%matplotlib inline"
   ]
  },
  {
   "cell_type": "markdown",
   "metadata": {
    "heading_collapsed": true
   },
   "source": [
    "## Formatting"
   ]
  },
  {
   "cell_type": "code",
   "execution_count": 58,
   "metadata": {
    "hidden": true
   },
   "outputs": [],
   "source": [
    "from IPython.display import set_matplotlib_formats\n",
    "set_matplotlib_formats('pdf', 'png')\n",
    "plt.rcParams['savefig.dpi'] = 75\n",
    "\n",
    "plt.rcParams['figure.autolayout'] = False\n",
    "plt.rcParams['figure.figsize'] = (8, 6)\n",
    "plt.rcParams['axes.labelsize'] = 18\n",
    "plt.rcParams['axes.titlesize'] = 20\n",
    "plt.rcParams['font.size'] = 16\n",
    "plt.rcParams['lines.linewidth'] = 2.0\n",
    "plt.rcParams['lines.markersize'] = 8\n",
    "plt.rcParams['legend.fontsize'] = 14\n",
    "\n",
    "plt.rcParams['text.usetex'] = False\n",
    "plt.rcParams['font.family'] = \"sans-serif\"\n",
    "plt.rcParams['font.serif'] = \"cm\"\n",
    "plt.rcParams['text.latex.preamble'] = \"\\\\usepackage{subdepth} \\\\usepackage{type1cm}\""
   ]
  },
  {
   "cell_type": "markdown",
   "metadata": {},
   "source": [
    "## Cleaning"
   ]
  },
  {
   "cell_type": "code",
   "execution_count": 64,
   "metadata": {},
   "outputs": [],
   "source": [
    "sample_df = pd.read_csv(\"data/sample_auxiliary.csv\", header = 0, index_col = 0)\n",
    "matrix_df = pd.read_csv(\"data/series_matrix.csv\", index_col = 0)"
   ]
  },
  {
   "cell_type": "markdown",
   "metadata": {},
   "source": [
    "The merged dataframe below contains all of the roughly 22K gene expression levels,\n",
    "and the age/packyear features, and the label of if they have cancer or not.\n",
    "\n",
    "I dropped rows that do not contain age/packyears, but this can be changed if we want to. I then split the data into a 60% train set (97 samples) and a 40% test set (66 samples)."
   ]
  },
  {
   "cell_type": "code",
   "execution_count": 69,
   "metadata": {},
   "outputs": [
    {
     "data": {
      "text/html": [
       "<div>\n",
       "<style scoped>\n",
       "    .dataframe tbody tr th:only-of-type {\n",
       "        vertical-align: middle;\n",
       "    }\n",
       "\n",
       "    .dataframe tbody tr th {\n",
       "        vertical-align: top;\n",
       "    }\n",
       "\n",
       "    .dataframe thead th {\n",
       "        text-align: right;\n",
       "    }\n",
       "</style>\n",
       "<table border=\"1\" class=\"dataframe\">\n",
       "  <thead>\n",
       "    <tr style=\"text-align: right;\">\n",
       "      <th></th>\n",
       "      <th>cancer</th>\n",
       "      <th>age</th>\n",
       "      <th>packyears</th>\n",
       "      <th>1007_s_at</th>\n",
       "      <th>1053_at</th>\n",
       "      <th>117_at</th>\n",
       "      <th>121_at</th>\n",
       "      <th>1255_g_at</th>\n",
       "      <th>1294_at</th>\n",
       "      <th>1316_at</th>\n",
       "      <th>...</th>\n",
       "      <th>90265_at</th>\n",
       "      <th>90610_at</th>\n",
       "      <th>91580_at</th>\n",
       "      <th>91617_at</th>\n",
       "      <th>91682_at</th>\n",
       "      <th>91684_g_at</th>\n",
       "      <th>91703_at</th>\n",
       "      <th>91816_f_at</th>\n",
       "      <th>91826_at</th>\n",
       "      <th>91920_at</th>\n",
       "    </tr>\n",
       "    <tr>\n",
       "      <th>geoid</th>\n",
       "      <th></th>\n",
       "      <th></th>\n",
       "      <th></th>\n",
       "      <th></th>\n",
       "      <th></th>\n",
       "      <th></th>\n",
       "      <th></th>\n",
       "      <th></th>\n",
       "      <th></th>\n",
       "      <th></th>\n",
       "      <th></th>\n",
       "      <th></th>\n",
       "      <th></th>\n",
       "      <th></th>\n",
       "      <th></th>\n",
       "      <th></th>\n",
       "      <th></th>\n",
       "      <th></th>\n",
       "      <th></th>\n",
       "      <th></th>\n",
       "      <th></th>\n",
       "    </tr>\n",
       "  </thead>\n",
       "  <tbody>\n",
       "    <tr>\n",
       "      <th>GSM93997</th>\n",
       "      <td>0</td>\n",
       "      <td>34.0</td>\n",
       "      <td>17.0</td>\n",
       "      <td>10.696879</td>\n",
       "      <td>4.236170</td>\n",
       "      <td>5.345251</td>\n",
       "      <td>7.919187</td>\n",
       "      <td>3.478706</td>\n",
       "      <td>7.142456</td>\n",
       "      <td>4.814028</td>\n",
       "      <td>...</td>\n",
       "      <td>8.113917</td>\n",
       "      <td>7.373103</td>\n",
       "      <td>3.232875</td>\n",
       "      <td>5.466897</td>\n",
       "      <td>5.952681</td>\n",
       "      <td>5.102564</td>\n",
       "      <td>5.499590</td>\n",
       "      <td>5.209175</td>\n",
       "      <td>7.569331</td>\n",
       "      <td>6.747730</td>\n",
       "    </tr>\n",
       "    <tr>\n",
       "      <th>GSM94019</th>\n",
       "      <td>1</td>\n",
       "      <td>63.0</td>\n",
       "      <td>75.0</td>\n",
       "      <td>10.560653</td>\n",
       "      <td>4.173343</td>\n",
       "      <td>5.788414</td>\n",
       "      <td>8.180133</td>\n",
       "      <td>3.745022</td>\n",
       "      <td>7.667475</td>\n",
       "      <td>5.254227</td>\n",
       "      <td>...</td>\n",
       "      <td>8.353391</td>\n",
       "      <td>7.714989</td>\n",
       "      <td>3.491614</td>\n",
       "      <td>5.597842</td>\n",
       "      <td>6.394273</td>\n",
       "      <td>5.452602</td>\n",
       "      <td>5.669695</td>\n",
       "      <td>4.375323</td>\n",
       "      <td>8.200798</td>\n",
       "      <td>7.133049</td>\n",
       "    </tr>\n",
       "    <tr>\n",
       "      <th>GSM94021</th>\n",
       "      <td>1</td>\n",
       "      <td>69.0</td>\n",
       "      <td>70.0</td>\n",
       "      <td>10.299866</td>\n",
       "      <td>4.359738</td>\n",
       "      <td>5.583276</td>\n",
       "      <td>8.213886</td>\n",
       "      <td>3.653105</td>\n",
       "      <td>7.509800</td>\n",
       "      <td>5.103016</td>\n",
       "      <td>...</td>\n",
       "      <td>8.221291</td>\n",
       "      <td>7.253566</td>\n",
       "      <td>3.333656</td>\n",
       "      <td>5.259695</td>\n",
       "      <td>6.299795</td>\n",
       "      <td>5.622406</td>\n",
       "      <td>5.984586</td>\n",
       "      <td>4.613341</td>\n",
       "      <td>7.427216</td>\n",
       "      <td>7.121853</td>\n",
       "    </tr>\n",
       "    <tr>\n",
       "      <th>GSM94022</th>\n",
       "      <td>1</td>\n",
       "      <td>61.0</td>\n",
       "      <td>80.0</td>\n",
       "      <td>10.467122</td>\n",
       "      <td>4.245888</td>\n",
       "      <td>5.785865</td>\n",
       "      <td>8.184135</td>\n",
       "      <td>3.718874</td>\n",
       "      <td>7.588953</td>\n",
       "      <td>5.233377</td>\n",
       "      <td>...</td>\n",
       "      <td>8.297687</td>\n",
       "      <td>7.898104</td>\n",
       "      <td>3.511188</td>\n",
       "      <td>5.409353</td>\n",
       "      <td>6.276960</td>\n",
       "      <td>5.445675</td>\n",
       "      <td>5.611665</td>\n",
       "      <td>4.369342</td>\n",
       "      <td>8.122028</td>\n",
       "      <td>7.201006</td>\n",
       "    </tr>\n",
       "    <tr>\n",
       "      <th>GSM94023</th>\n",
       "      <td>1</td>\n",
       "      <td>49.0</td>\n",
       "      <td>20.0</td>\n",
       "      <td>10.234799</td>\n",
       "      <td>4.537967</td>\n",
       "      <td>5.881467</td>\n",
       "      <td>8.022470</td>\n",
       "      <td>3.578695</td>\n",
       "      <td>7.692626</td>\n",
       "      <td>4.957821</td>\n",
       "      <td>...</td>\n",
       "      <td>8.242604</td>\n",
       "      <td>8.189139</td>\n",
       "      <td>3.289676</td>\n",
       "      <td>5.617069</td>\n",
       "      <td>6.064206</td>\n",
       "      <td>5.924520</td>\n",
       "      <td>6.020903</td>\n",
       "      <td>4.530274</td>\n",
       "      <td>8.119425</td>\n",
       "      <td>7.013346</td>\n",
       "    </tr>\n",
       "  </tbody>\n",
       "</table>\n",
       "<p>5 rows × 22217 columns</p>\n",
       "</div>"
      ],
      "text/plain": [
       "          cancer   age  packyears  1007_s_at   1053_at    117_at    121_at  \\\n",
       "geoid                                                                        \n",
       "GSM93997       0  34.0       17.0  10.696879  4.236170  5.345251  7.919187   \n",
       "GSM94019       1  63.0       75.0  10.560653  4.173343  5.788414  8.180133   \n",
       "GSM94021       1  69.0       70.0  10.299866  4.359738  5.583276  8.213886   \n",
       "GSM94022       1  61.0       80.0  10.467122  4.245888  5.785865  8.184135   \n",
       "GSM94023       1  49.0       20.0  10.234799  4.537967  5.881467  8.022470   \n",
       "\n",
       "          1255_g_at   1294_at   1316_at    ...     90265_at  90610_at  \\\n",
       "geoid                                      ...                          \n",
       "GSM93997   3.478706  7.142456  4.814028    ...     8.113917  7.373103   \n",
       "GSM94019   3.745022  7.667475  5.254227    ...     8.353391  7.714989   \n",
       "GSM94021   3.653105  7.509800  5.103016    ...     8.221291  7.253566   \n",
       "GSM94022   3.718874  7.588953  5.233377    ...     8.297687  7.898104   \n",
       "GSM94023   3.578695  7.692626  4.957821    ...     8.242604  8.189139   \n",
       "\n",
       "          91580_at  91617_at  91682_at  91684_g_at  91703_at  91816_f_at  \\\n",
       "geoid                                                                      \n",
       "GSM93997  3.232875  5.466897  5.952681    5.102564  5.499590    5.209175   \n",
       "GSM94019  3.491614  5.597842  6.394273    5.452602  5.669695    4.375323   \n",
       "GSM94021  3.333656  5.259695  6.299795    5.622406  5.984586    4.613341   \n",
       "GSM94022  3.511188  5.409353  6.276960    5.445675  5.611665    4.369342   \n",
       "GSM94023  3.289676  5.617069  6.064206    5.924520  6.020903    4.530274   \n",
       "\n",
       "          91826_at  91920_at  \n",
       "geoid                         \n",
       "GSM93997  7.569331  6.747730  \n",
       "GSM94019  8.200798  7.133049  \n",
       "GSM94021  7.427216  7.121853  \n",
       "GSM94022  8.122028  7.201006  \n",
       "GSM94023  8.119425  7.013346  \n",
       "\n",
       "[5 rows x 22217 columns]"
      ]
     },
     "execution_count": 69,
     "metadata": {},
     "output_type": "execute_result"
    }
   ],
   "source": [
    "mdf = pd.concat((sample_df[[\"cancer\", \"age\", \"packyears\"]], matrix_df), axis = 1)\n",
    "\n",
    "mdf = mdf.dropna()\n",
    "mdf.head()"
   ]
  },
  {
   "cell_type": "code",
   "execution_count": 108,
   "metadata": {},
   "outputs": [],
   "source": [
    "train_df, test_df = sklearn.model_selection.train_test_split(mdf, test_size = 0.4, random_state = 12345)"
   ]
  },
  {
   "cell_type": "code",
   "execution_count": 109,
   "metadata": {},
   "outputs": [
    {
     "data": {
      "text/plain": [
       "(97, 66)"
      ]
     },
     "execution_count": 109,
     "metadata": {},
     "output_type": "execute_result"
    }
   ],
   "source": [
    "(train_df.shape[0], test_df.shape[0])"
   ]
  },
  {
   "cell_type": "markdown",
   "metadata": {},
   "source": [
    "## PCA"
   ]
  },
  {
   "cell_type": "markdown",
   "metadata": {},
   "source": [
    "Running PCA and basic visualization on the training set alone. Using both the age/packyear traits, and the gene probe levels as features. Performed mean/variance standardization before feeding into the sklearn PCA algorithm."
   ]
  },
  {
   "cell_type": "code",
   "execution_count": 110,
   "metadata": {},
   "outputs": [],
   "source": [
    "x = train_df.iloc[:,1:].values\n",
    "y = train_df.iloc[:,0].values"
   ]
  },
  {
   "cell_type": "code",
   "execution_count": 111,
   "metadata": {},
   "outputs": [],
   "source": [
    "x = StandardScaler().fit_transform(x)"
   ]
  },
  {
   "cell_type": "markdown",
   "metadata": {},
   "source": [
    "### 2 Component"
   ]
  },
  {
   "cell_type": "code",
   "execution_count": 112,
   "metadata": {},
   "outputs": [
    {
     "name": "stdout",
     "output_type": "stream",
     "text": [
      "Explained variance: [0.27562634 0.08977701]\n"
     ]
    }
   ],
   "source": [
    "pca = PCA(n_components = 2)\n",
    "pca_fit = pca.fit_transform(x)\n",
    "\n",
    "print(\"Explained variance: {}\".format(pca.explained_variance_ratio_))"
   ]
  },
  {
   "cell_type": "code",
   "execution_count": 113,
   "metadata": {},
   "outputs": [],
   "source": [
    "pca_df = pd.DataFrame(data = pca_fit, columns = ['pc1', 'pc2'], index = train_df.index)\n",
    "pca_df = pd.concat([pca_df, train_df[\"cancer\"]], axis = 1)"
   ]
  },
  {
   "cell_type": "code",
   "execution_count": 116,
   "metadata": {},
   "outputs": [
    {
     "data": {
      "application/pdf": "[encoded data removed]",
      "image/png": "[encoded data removed]",
      "text/plain": [
       "<Figure size 576x432 with 1 Axes>"
      ]
     },
     "metadata": {
      "needs_background": "light"
     },
     "output_type": "display_data"
    }
   ],
   "source": [
    "fig = plt.figure(figsize = (8,6))\n",
    "\n",
    "\n",
    "ax = fig.add_subplot(1,1,1) \n",
    "ax.set_xlabel('PC-1', fontsize = 15)\n",
    "ax.set_ylabel('PC-2', fontsize = 15)\n",
    "\n",
    "colors = ['r', 'b']\n",
    "targets = [0, 1]\n",
    "\n",
    "for target, color in zip(targets,colors):\n",
    "    idx = pca_df['cancer'] == target\n",
    "    ax.scatter(pca_df.loc[idx, 'pc1'], pca_df.loc[idx, 'pc2'], c = color, s = 40)\n",
    "ax.legend([\"No Cancer\", \"Cancer\"])\n",
    "ax.grid()\n",
    "\n",
    "plt.savefig(\"images/pca_2comp.pdf\")"
   ]
  },
  {
   "cell_type": "markdown",
   "metadata": {},
   "source": [
    "### Variance Test"
   ]
  },
  {
   "cell_type": "code",
   "execution_count": 104,
   "metadata": {},
   "outputs": [
    {
     "name": "stdout",
     "output_type": "stream",
     "text": [
      "Variance explained by k = 1: 0.2756263368810686\n",
      "Variance explained by k = 6: 0.53799152482042\n",
      "Variance explained by k = 11: 0.6324598489082148\n",
      "Variance explained by k = 16: 0.6850323354699168\n",
      "Variance explained by k = 21: 0.7247369799795288\n",
      "Variance explained by k = 26: 0.7589467738600025\n",
      "Variance explained by k = 31: 0.787634337717961\n",
      "Variance explained by k = 36: 0.8127994018129387\n",
      "Variance explained by k = 41: 0.8349754620511707\n",
      "Variance explained by k = 46: 0.855430545031857\n",
      "Variance explained by k = 51: 0.8744734818761076\n",
      "Variance explained by k = 56: 0.8922848249982038\n",
      "Variance explained by k = 61: 0.9090107990806814\n"
     ]
    }
   ],
   "source": [
    "var = 0\n",
    "k = 1\n",
    "\n",
    "while var < 0.9:\n",
    "    pca = PCA(n_components = k)\n",
    "    pca_fit = pca.fit_transform(x)\n",
    "    var = np.sum(pca.explained_variance_ratio_)\n",
    "    \n",
    "    print(\"Variance explained by k = {}: {}\".format(k, var))\n",
    "    \n",
    "    k+=5"
   ]
  },
  {
   "cell_type": "code",
   "execution_count": null,
   "metadata": {},
   "outputs": [],
   "source": []
  }
 ],
 "metadata": {
  "kernelspec": {
   "display_name": "Python [conda env:anaconda3]",
   "language": "python",
   "name": "conda-env-anaconda3-py"
  },
  "language_info": {
   "codemirror_mode": {
    "name": "ipython",
    "version": 3
   },
   "file_extension": ".py",
   "mimetype": "text/x-python",
   "name": "python",
   "nbconvert_exporter": "python",
   "pygments_lexer": "ipython3",
   "version": "3.6.6"
  }
 },
 "nbformat": 4,
 "nbformat_minor": 2
}
