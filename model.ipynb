{
 "cells": [
  {
   "cell_type": "code",
   "execution_count": 148,
   "metadata": {},
   "outputs": [],
   "source": [
    "import numpy as np\n",
    "import pandas as pd\n",
    "\n",
    "from sklearn.preprocessing import StandardScaler\n",
    "from sklearn.decomposition import PCA\n",
    "\n",
    "import matplotlib.pyplot as plt\n",
    "%matplotlib inline"
   ]
  },
  {
   "cell_type": "markdown",
   "metadata": {
    "heading_collapsed": true
   },
   "source": [
    "## Formatting"
   ]
  },
  {
   "cell_type": "code",
   "execution_count": 170,
   "metadata": {
    "hidden": true
   },
   "outputs": [],
   "source": [
    "from IPython.display import set_matplotlib_formats\n",
    "set_matplotlib_formats('pdf', 'png')\n",
    "plt.rcParams['savefig.dpi'] = 75\n",
    "\n",
    "plt.rcParams['figure.autolayout'] = False\n",
    "plt.rcParams['figure.figsize'] = (8, 6)\n",
    "plt.rcParams['axes.labelsize'] = 18\n",
    "plt.rcParams['axes.titlesize'] = 20\n",
    "plt.rcParams['font.size'] = 16\n",
    "plt.rcParams['lines.linewidth'] = 2.0\n",
    "plt.rcParams['lines.markersize'] = 8\n",
    "plt.rcParams['legend.fontsize'] = 14\n",
    "\n",
    "plt.rcParams['text.usetex'] = False\n",
    "plt.rcParams['font.family'] = \"sans-serif\"\n",
    "plt.rcParams['font.serif'] = \"cm\"\n",
    "plt.rcParams['text.latex.preamble'] = \"\\\\usepackage{subdepth} \\\\usepackage{type1cm}\""
   ]
  },
  {
   "cell_type": "markdown",
   "metadata": {},
   "source": [
    "## Cleaning"
   ]
  },
  {
   "cell_type": "code",
   "execution_count": 157,
   "metadata": {},
   "outputs": [],
   "source": [
    "sample_df = pd.read_csv(\"data/sample_auxiliary.csv\", header = 0, index_col = 0)\n",
    "matrix_df = pd.read_csv(\"data/series_matrix.csv\", header = None, index_col = 0)"
   ]
  },
  {
   "cell_type": "code",
   "execution_count": 158,
   "metadata": {},
   "outputs": [],
   "source": [
    "matrix_df.index.rename(\"geoid\", inplace = True)\n",
    "matrix_df.insert(0, \"cancer\", sample_df[\"cancer\"])"
   ]
  },
  {
   "cell_type": "code",
   "execution_count": 159,
   "metadata": {},
   "outputs": [
    {
     "data": {
      "text/html": [
       "<div>\n",
       "<style scoped>\n",
       "    .dataframe tbody tr th:only-of-type {\n",
       "        vertical-align: middle;\n",
       "    }\n",
       "\n",
       "    .dataframe tbody tr th {\n",
       "        vertical-align: top;\n",
       "    }\n",
       "\n",
       "    .dataframe thead th {\n",
       "        text-align: right;\n",
       "    }\n",
       "</style>\n",
       "<table border=\"1\" class=\"dataframe\">\n",
       "  <thead>\n",
       "    <tr style=\"text-align: right;\">\n",
       "      <th></th>\n",
       "      <th>cancer</th>\n",
       "      <th>1</th>\n",
       "      <th>2</th>\n",
       "      <th>3</th>\n",
       "      <th>4</th>\n",
       "      <th>5</th>\n",
       "      <th>6</th>\n",
       "      <th>7</th>\n",
       "      <th>8</th>\n",
       "      <th>9</th>\n",
       "      <th>...</th>\n",
       "      <th>22205</th>\n",
       "      <th>22206</th>\n",
       "      <th>22207</th>\n",
       "      <th>22208</th>\n",
       "      <th>22209</th>\n",
       "      <th>22210</th>\n",
       "      <th>22211</th>\n",
       "      <th>22212</th>\n",
       "      <th>22213</th>\n",
       "      <th>22214</th>\n",
       "    </tr>\n",
       "    <tr>\n",
       "      <th>geoid</th>\n",
       "      <th></th>\n",
       "      <th></th>\n",
       "      <th></th>\n",
       "      <th></th>\n",
       "      <th></th>\n",
       "      <th></th>\n",
       "      <th></th>\n",
       "      <th></th>\n",
       "      <th></th>\n",
       "      <th></th>\n",
       "      <th></th>\n",
       "      <th></th>\n",
       "      <th></th>\n",
       "      <th></th>\n",
       "      <th></th>\n",
       "      <th></th>\n",
       "      <th></th>\n",
       "      <th></th>\n",
       "      <th></th>\n",
       "      <th></th>\n",
       "      <th></th>\n",
       "    </tr>\n",
       "  </thead>\n",
       "  <tbody>\n",
       "    <tr>\n",
       "      <th>GSM93997</th>\n",
       "      <td>0</td>\n",
       "      <td>10.696879</td>\n",
       "      <td>4.236170</td>\n",
       "      <td>5.345251</td>\n",
       "      <td>7.919187</td>\n",
       "      <td>3.478706</td>\n",
       "      <td>7.142456</td>\n",
       "      <td>4.814028</td>\n",
       "      <td>4.112987</td>\n",
       "      <td>6.948436</td>\n",
       "      <td>...</td>\n",
       "      <td>8.113917</td>\n",
       "      <td>7.373103</td>\n",
       "      <td>3.232875</td>\n",
       "      <td>5.466897</td>\n",
       "      <td>5.952681</td>\n",
       "      <td>5.102564</td>\n",
       "      <td>5.499590</td>\n",
       "      <td>5.209175</td>\n",
       "      <td>7.569331</td>\n",
       "      <td>6.747730</td>\n",
       "    </tr>\n",
       "    <tr>\n",
       "      <th>GSM94019</th>\n",
       "      <td>1</td>\n",
       "      <td>10.560653</td>\n",
       "      <td>4.173343</td>\n",
       "      <td>5.788414</td>\n",
       "      <td>8.180133</td>\n",
       "      <td>3.745022</td>\n",
       "      <td>7.667475</td>\n",
       "      <td>5.254227</td>\n",
       "      <td>4.303188</td>\n",
       "      <td>5.243215</td>\n",
       "      <td>...</td>\n",
       "      <td>8.353391</td>\n",
       "      <td>7.714989</td>\n",
       "      <td>3.491614</td>\n",
       "      <td>5.597842</td>\n",
       "      <td>6.394273</td>\n",
       "      <td>5.452602</td>\n",
       "      <td>5.669695</td>\n",
       "      <td>4.375323</td>\n",
       "      <td>8.200798</td>\n",
       "      <td>7.133049</td>\n",
       "    </tr>\n",
       "    <tr>\n",
       "      <th>GSM94020</th>\n",
       "      <td>1</td>\n",
       "      <td>9.939516</td>\n",
       "      <td>4.559698</td>\n",
       "      <td>5.924607</td>\n",
       "      <td>8.207125</td>\n",
       "      <td>3.630689</td>\n",
       "      <td>7.807055</td>\n",
       "      <td>5.364942</td>\n",
       "      <td>4.498574</td>\n",
       "      <td>5.108143</td>\n",
       "      <td>...</td>\n",
       "      <td>8.826606</td>\n",
       "      <td>8.707332</td>\n",
       "      <td>3.655863</td>\n",
       "      <td>5.934463</td>\n",
       "      <td>6.547563</td>\n",
       "      <td>5.978310</td>\n",
       "      <td>6.043272</td>\n",
       "      <td>4.889960</td>\n",
       "      <td>8.535591</td>\n",
       "      <td>7.601025</td>\n",
       "    </tr>\n",
       "    <tr>\n",
       "      <th>GSM94021</th>\n",
       "      <td>1</td>\n",
       "      <td>10.299866</td>\n",
       "      <td>4.359738</td>\n",
       "      <td>5.583276</td>\n",
       "      <td>8.213886</td>\n",
       "      <td>3.653105</td>\n",
       "      <td>7.509800</td>\n",
       "      <td>5.103016</td>\n",
       "      <td>4.137036</td>\n",
       "      <td>5.450892</td>\n",
       "      <td>...</td>\n",
       "      <td>8.221291</td>\n",
       "      <td>7.253566</td>\n",
       "      <td>3.333656</td>\n",
       "      <td>5.259695</td>\n",
       "      <td>6.299795</td>\n",
       "      <td>5.622406</td>\n",
       "      <td>5.984586</td>\n",
       "      <td>4.613341</td>\n",
       "      <td>7.427216</td>\n",
       "      <td>7.121853</td>\n",
       "    </tr>\n",
       "    <tr>\n",
       "      <th>GSM94022</th>\n",
       "      <td>1</td>\n",
       "      <td>10.467122</td>\n",
       "      <td>4.245888</td>\n",
       "      <td>5.785865</td>\n",
       "      <td>8.184135</td>\n",
       "      <td>3.718874</td>\n",
       "      <td>7.588953</td>\n",
       "      <td>5.233377</td>\n",
       "      <td>4.029887</td>\n",
       "      <td>4.745138</td>\n",
       "      <td>...</td>\n",
       "      <td>8.297687</td>\n",
       "      <td>7.898104</td>\n",
       "      <td>3.511188</td>\n",
       "      <td>5.409353</td>\n",
       "      <td>6.276960</td>\n",
       "      <td>5.445675</td>\n",
       "      <td>5.611665</td>\n",
       "      <td>4.369342</td>\n",
       "      <td>8.122028</td>\n",
       "      <td>7.201006</td>\n",
       "    </tr>\n",
       "  </tbody>\n",
       "</table>\n",
       "<p>5 rows × 22215 columns</p>\n",
       "</div>"
      ],
      "text/plain": [
       "          cancer          1         2         3         4         5         6  \\\n",
       "geoid                                                                           \n",
       "GSM93997       0  10.696879  4.236170  5.345251  7.919187  3.478706  7.142456   \n",
       "GSM94019       1  10.560653  4.173343  5.788414  8.180133  3.745022  7.667475   \n",
       "GSM94020       1   9.939516  4.559698  5.924607  8.207125  3.630689  7.807055   \n",
       "GSM94021       1  10.299866  4.359738  5.583276  8.213886  3.653105  7.509800   \n",
       "GSM94022       1  10.467122  4.245888  5.785865  8.184135  3.718874  7.588953   \n",
       "\n",
       "                 7         8         9    ...        22205     22206  \\\n",
       "geoid                                     ...                          \n",
       "GSM93997  4.814028  4.112987  6.948436    ...     8.113917  7.373103   \n",
       "GSM94019  5.254227  4.303188  5.243215    ...     8.353391  7.714989   \n",
       "GSM94020  5.364942  4.498574  5.108143    ...     8.826606  8.707332   \n",
       "GSM94021  5.103016  4.137036  5.450892    ...     8.221291  7.253566   \n",
       "GSM94022  5.233377  4.029887  4.745138    ...     8.297687  7.898104   \n",
       "\n",
       "             22207     22208     22209     22210     22211     22212  \\\n",
       "geoid                                                                  \n",
       "GSM93997  3.232875  5.466897  5.952681  5.102564  5.499590  5.209175   \n",
       "GSM94019  3.491614  5.597842  6.394273  5.452602  5.669695  4.375323   \n",
       "GSM94020  3.655863  5.934463  6.547563  5.978310  6.043272  4.889960   \n",
       "GSM94021  3.333656  5.259695  6.299795  5.622406  5.984586  4.613341   \n",
       "GSM94022  3.511188  5.409353  6.276960  5.445675  5.611665  4.369342   \n",
       "\n",
       "             22213     22214  \n",
       "geoid                         \n",
       "GSM93997  7.569331  6.747730  \n",
       "GSM94019  8.200798  7.133049  \n",
       "GSM94020  8.535591  7.601025  \n",
       "GSM94021  7.427216  7.121853  \n",
       "GSM94022  8.122028  7.201006  \n",
       "\n",
       "[5 rows x 22215 columns]"
      ]
     },
     "execution_count": 159,
     "metadata": {},
     "output_type": "execute_result"
    }
   ],
   "source": [
    "matrix_df.head()"
   ]
  },
  {
   "cell_type": "markdown",
   "metadata": {},
   "source": [
    "## PCA"
   ]
  },
  {
   "cell_type": "code",
   "execution_count": 160,
   "metadata": {},
   "outputs": [],
   "source": [
    "x = matrix_df.iloc[:,1:].values\n",
    "y = matrix_df.iloc[:,0].values"
   ]
  },
  {
   "cell_type": "code",
   "execution_count": 161,
   "metadata": {},
   "outputs": [],
   "source": [
    "x = StandardScaler().fit_transform(x)"
   ]
  },
  {
   "cell_type": "code",
   "execution_count": 162,
   "metadata": {},
   "outputs": [],
   "source": [
    "pca = PCA(n_components = 2)\n",
    "pca_fit = pca.fit_transform(x)"
   ]
  },
  {
   "cell_type": "code",
   "execution_count": 163,
   "metadata": {},
   "outputs": [
    {
     "data": {
      "text/html": [
       "<div>\n",
       "<style scoped>\n",
       "    .dataframe tbody tr th:only-of-type {\n",
       "        vertical-align: middle;\n",
       "    }\n",
       "\n",
       "    .dataframe tbody tr th {\n",
       "        vertical-align: top;\n",
       "    }\n",
       "\n",
       "    .dataframe thead th {\n",
       "        text-align: right;\n",
       "    }\n",
       "</style>\n",
       "<table border=\"1\" class=\"dataframe\">\n",
       "  <thead>\n",
       "    <tr style=\"text-align: right;\">\n",
       "      <th></th>\n",
       "      <th>pc1</th>\n",
       "      <th>pc2</th>\n",
       "      <th>cancer</th>\n",
       "    </tr>\n",
       "    <tr>\n",
       "      <th>geoid</th>\n",
       "      <th></th>\n",
       "      <th></th>\n",
       "      <th></th>\n",
       "    </tr>\n",
       "  </thead>\n",
       "  <tbody>\n",
       "    <tr>\n",
       "      <th>GSM93997</th>\n",
       "      <td>-132.431484</td>\n",
       "      <td>57.827087</td>\n",
       "      <td>0</td>\n",
       "    </tr>\n",
       "    <tr>\n",
       "      <th>GSM94019</th>\n",
       "      <td>13.667010</td>\n",
       "      <td>-32.802584</td>\n",
       "      <td>1</td>\n",
       "    </tr>\n",
       "    <tr>\n",
       "      <th>GSM94020</th>\n",
       "      <td>113.661085</td>\n",
       "      <td>-39.252446</td>\n",
       "      <td>1</td>\n",
       "    </tr>\n",
       "    <tr>\n",
       "      <th>GSM94021</th>\n",
       "      <td>-69.150223</td>\n",
       "      <td>-25.728884</td>\n",
       "      <td>1</td>\n",
       "    </tr>\n",
       "    <tr>\n",
       "      <th>GSM94022</th>\n",
       "      <td>-10.474619</td>\n",
       "      <td>-59.829751</td>\n",
       "      <td>1</td>\n",
       "    </tr>\n",
       "  </tbody>\n",
       "</table>\n",
       "</div>"
      ],
      "text/plain": [
       "                 pc1        pc2  cancer\n",
       "geoid                                  \n",
       "GSM93997 -132.431484  57.827087       0\n",
       "GSM94019   13.667010 -32.802584       1\n",
       "GSM94020  113.661085 -39.252446       1\n",
       "GSM94021  -69.150223 -25.728884       1\n",
       "GSM94022  -10.474619 -59.829751       1"
      ]
     },
     "execution_count": 163,
     "metadata": {},
     "output_type": "execute_result"
    }
   ],
   "source": [
    "pca_df = pd.DataFrame(data = pca_fit, columns = ['pc1', 'pc2'], index = matrix_df.index)\n",
    "pca_df = pd.concat([pca_df, matrix_df[\"cancer\"]], axis = 1)\n",
    "\n",
    "pca_df.head()"
   ]
  },
  {
   "cell_type": "code",
   "execution_count": 171,
   "metadata": {},
   "outputs": [
    {
     "data": {
      "application/pdf": "[encoded data removed]",
      "image/png": "[encoded data removed]",
      "text/plain": [
       "<Figure size 576x432 with 1 Axes>"
      ]
     },
     "metadata": {
      "needs_background": "light"
     },
     "output_type": "display_data"
    }
   ],
   "source": [
    "fig = plt.figure()\n",
    "\n",
    "\n",
    "ax = fig.add_subplot(1,1,1) \n",
    "ax.set_xlabel('Principal Component 1', fontsize = 15)\n",
    "ax.set_ylabel('Principal Component 2', fontsize = 15)\n",
    "ax.set_title('2 component PCA', fontsize = 20)\n",
    "\n",
    "colors = ['r', 'g','b']\n",
    "targets = [0, 1, -1]\n",
    "\n",
    "for target, color in zip(targets,colors):\n",
    "    indicesToKeep = pca_df['cancer'] == target\n",
    "    ax.scatter(pca_df.loc[indicesToKeep, 'pc1']\n",
    "               , pca_df.loc[indicesToKeep, 'pc2']\n",
    "               , c = color\n",
    "               , s = 50)\n",
    "ax.legend(targets)\n",
    "ax.grid()"
   ]
  },
  {
   "cell_type": "code",
   "execution_count": 172,
   "metadata": {},
   "outputs": [
    {
     "data": {
      "text/plain": [
       "array([0.3643203 , 0.08680569])"
      ]
     },
     "execution_count": 172,
     "metadata": {},
     "output_type": "execute_result"
    }
   ],
   "source": [
    "pca.explained_variance_ratio_"
   ]
  },
  {
   "cell_type": "code",
   "execution_count": null,
   "metadata": {},
   "outputs": [],
   "source": []
  }
 ],
 "metadata": {
  "kernelspec": {
   "display_name": "Python [conda env:anaconda3]",
   "language": "python",
   "name": "conda-env-anaconda3-py"
  },
  "language_info": {
   "codemirror_mode": {
    "name": "ipython",
    "version": 3
   },
   "file_extension": ".py",
   "mimetype": "text/x-python",
   "name": "python",
   "nbconvert_exporter": "python",
   "pygments_lexer": "ipython3",
   "version": "3.6.6"
  }
 },
 "nbformat": 4,
 "nbformat_minor": 2
}
